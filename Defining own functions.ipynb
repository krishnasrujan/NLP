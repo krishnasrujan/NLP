{
 "cells": [
  {
   "cell_type": "code",
   "execution_count": 12,
   "metadata": {},
   "outputs": [],
   "source": [
    "import spacy \n",
    "import re\n",
    "from time import strftime,strptime\n",
    "import time\n",
    "from nltk.corpus import stopwords"
   ]
  },
  {
   "cell_type": "markdown",
   "metadata": {},
   "source": [
    "## Identifying dates"
   ]
  },
  {
   "cell_type": "code",
   "execution_count": 51,
   "metadata": {},
   "outputs": [],
   "source": [
    "months = ['january','febraury','march','april','may','june','july','august','september','october','november','december']\n",
    "def convert_date(text):\n",
    "    lis = text.split(' ')\n",
    "    dates=[]\n",
    "    idx=0\n",
    "    while idx<len(lis):\n",
    "        if lis[idx][:1].isnumeric():\n",
    "            idx+=1\n",
    "            if lis[idx].lower() in months:\n",
    "                idx+=1\n",
    "                if lis[idx].isnumeric():\n",
    "                    idx+=1\n",
    "                    date = lis[idx-3][:1]+' '+lis[idx-2]+' '+lis[idx-1]\n",
    "                    dates.append(strptime(date,\"%d %B %Y\"))\n",
    "                else:\n",
    "                    continue\n",
    "        elif lis[idx][0:2].isnumeric():\n",
    "            \n",
    "            idx+=1\n",
    "            if lis[idx].lower() in months:\n",
    "                idx+=1\n",
    "                if lis[idx].isnumeric():\n",
    "                    idx+=1\n",
    "                    date = lis[idx-3][:2]+' '+lis[idx-2]+' '+lis[idx-1]\n",
    "                    dates.append(strptime(date,\"%d %B %Y\"))\n",
    "                else:\n",
    "                    continue\n",
    "        else:\n",
    "            continue\n",
    "    return dates"
   ]
  },
  {
   "cell_type": "code",
   "execution_count": 52,
   "metadata": {},
   "outputs": [
    {
     "data": {
      "text/plain": [
       "[time.struct_time(tm_year=2020, tm_mon=9, tm_mday=1, tm_hour=0, tm_min=0, tm_sec=0, tm_wday=1, tm_yday=245, tm_isdst=-1),\n",
       " time.struct_time(tm_year=2020, tm_mon=11, tm_mday=1, tm_hour=0, tm_min=0, tm_sec=0, tm_wday=6, tm_yday=306, tm_isdst=-1)]"
      ]
     },
     "execution_count": 52,
     "metadata": {},
     "output_type": "execute_result"
    }
   ],
   "source": [
    "text = '13th September 2020 16th november 2020'\n",
    "dates = convert_date(text)\n",
    "dates"
   ]
  },
  {
   "cell_type": "code",
   "execution_count": 1,
   "metadata": {},
   "outputs": [],
   "source": [
    "months = ['january','febraury','march','april','may','june','july','august','september','october','november','december']\n",
    "def convert_date(text):\n",
    "    lis = text.split(' ')\n",
    "    dates=[]\n",
    "    idx=0\n",
    "    while idx<len(lis):\n",
    "        if lis[idx][:1].isnumeric():\n",
    "            idx+=1\n",
    "            if lis[idx].lower() in months:\n",
    "                idx+=1\n",
    "                if lis[idx].isnumeric():\n",
    "                    idx+=1\n",
    "                    date = lis[idx-3][:1]+' '+lis[idx-2]+' '+lis[idx-1]\n",
    "                    dates.append(date)\n",
    "                else:\n",
    "                    continue\n",
    "        elif lis[idx][0:2].isnumeric():\n",
    "            idx+=1\n",
    "            if lis[idx].lower() in months:\n",
    "                idx+=1\n",
    "                if lis[idx].isnumeric():\n",
    "                    idx+=1\n",
    "                    date = lis[idx-3][:2]+' '+lis[idx-2]+' '+lis[idx-1]\n",
    "                    dates.append(date)\n",
    "                else:\n",
    "                    continue\n",
    "        else:\n",
    "            continue\n",
    "    return dates"
   ]
  },
  {
   "cell_type": "code",
   "execution_count": 2,
   "metadata": {},
   "outputs": [
    {
     "data": {
      "text/plain": [
       "['1 September 2020', '1 november 2020']"
      ]
     },
     "execution_count": 2,
     "metadata": {},
     "output_type": "execute_result"
    }
   ],
   "source": [
    "text = '13th September 2020 16th november 2020'\n",
    "dates = convert_date(text)\n",
    "dates"
   ]
  },
  {
   "cell_type": "code",
   "execution_count": null,
   "metadata": {},
   "outputs": [],
   "source": [
    "## Lemmatization"
   ]
  },
  {
   "cell_type": "code",
   "execution_count": 4,
   "metadata": {},
   "outputs": [],
   "source": [
    "message = '''The photographs, electronic images, motion pictures, interview/text or recordings shall be used for publicity, education or science; such photographs and information relating to my case may be published and republished, exhibited either separately or in connection with each other, in a professional journals or medical book, or used for any other purpose deemed proper in the interest of medical education, knowledge, research or to promote activities at the hospital in the news media provided, however, that it is specifically understood that in any such publication or use, I shall not be identified by name without my consent below.\n",
    "The photographs, electronic images, motion pictures, interview/text or recordings shall be used for publicity, education or science; such photographs and information relating to my case may be published and republished, exhibited either separately or in connection with each other, in a professional journals or medical book, or used for any other purpose deemed proper in the interest \n",
    "'''"
   ]
  },
  {
   "cell_type": "code",
   "execution_count": 7,
   "metadata": {},
   "outputs": [
    {
     "name": "stderr",
     "output_type": "stream",
     "text": [
      "C:\\Users\\Srujan\\Anaconda\\anaconda3\\lib\\site-packages\\spacy\\util.py:275: UserWarning: [W031] Model 'en_core_web_sm' (2.2.0) requires spaCy v2.2 and is incompatible with the current spaCy version (2.3.2). This may lead to unexpected results or runtime errors. To resolve this, download a newer compatible model or retrain your custom model with the current spaCy version. For more details and available updates, run: python -m spacy validate\n",
      "  warnings.warn(warn_msg)\n"
     ]
    },
    {
     "name": "stdout",
     "output_type": "stream",
     "text": [
      "used \t use\n",
      "relating \t relate\n",
      "published \t publish\n",
      "republished \t republish\n",
      "exhibited \t exhibit\n",
      "used \t use\n",
      "deemed \t deem\n",
      "provided \t provide\n",
      "identified \t identify\n",
      "used \t use\n",
      "relating \t relate\n",
      "published \t publish\n",
      "republished \t republish\n",
      "exhibited \t exhibit\n",
      "used \t use\n",
      "deemed \t deem\n"
     ]
    }
   ],
   "source": [
    "import spacy\n",
    "\n",
    "nlp = spacy.load(\"en_core_web_sm\")\n",
    "doc = nlp(message)\n",
    "for token in doc:\n",
    "    if str(token)[-3:]=='ing' or str(token)[-2:]=='ed':\n",
    "        print(token,'\\t',token.lemma_)\n",
    "    "
   ]
  },
  {
   "cell_type": "code",
   "execution_count": 5,
   "metadata": {},
   "outputs": [
    {
     "name": "stdout",
     "output_type": "stream",
     "text": [
      "used \t us\n",
      "relating \t relat\n",
      "published \t publish\n",
      "exhibited \t exhibit\n",
      "used \t us\n",
      "deemed \t deem\n",
      "identified \t identifi\n",
      "used \t us\n",
      "relating \t relat\n",
      "published \t publish\n",
      "exhibited \t exhibit\n",
      "used \t us\n",
      "deemed \t deem\n"
     ]
    }
   ],
   "source": [
    "tokens = message.split(' ')\n",
    "for token in tokens:\n",
    "    \n",
    "    if str(token)[-3:]=='ing':\n",
    "        print(token,'\\t',str(token)[:-3])\n",
    "        \n",
    "    elif str(token)[-2:]=='ed':\n",
    "        print(token,'\\t',str(token)[:-2])\n",
    "    \n",
    "    else:\n",
    "        continue"
   ]
  },
  {
   "cell_type": "code",
   "execution_count": 3,
   "metadata": {},
   "outputs": [],
   "source": [
    "## NER "
   ]
  },
  {
   "cell_type": "code",
   "execution_count": 25,
   "metadata": {},
   "outputs": [],
   "source": [
    "message = '''Shri Jayant Sinha presented the 6th Report (Hindi and English versions) of the Standing Committee on Finance on the ‘Insolvency and Bankruptcy Code (second Amendment) Bill 2019’ assignment 3: identify the common name by using the capitalization rule for Noun'''"
   ]
  },
  {
   "cell_type": "code",
   "execution_count": 41,
   "metadata": {},
   "outputs": [
    {
     "data": {
      "text/plain": [
       "['Shri',\n",
       " 'Jayant',\n",
       " 'Sinha',\n",
       " 'presented',\n",
       " 'the',\n",
       " '6th',\n",
       " 'Report',\n",
       " '(Hindi',\n",
       " 'and',\n",
       " 'English',\n",
       " 'versions)',\n",
       " 'of',\n",
       " 'the',\n",
       " 'Standing',\n",
       " 'Committee',\n",
       " 'on',\n",
       " 'Finance',\n",
       " 'on',\n",
       " 'the',\n",
       " '‘Insolvency',\n",
       " 'and',\n",
       " 'Bankruptcy',\n",
       " 'Code',\n",
       " '(second',\n",
       " 'Amendment)',\n",
       " 'Bill',\n",
       " '2019’',\n",
       " 'assignment',\n",
       " '3:',\n",
       " 'identify',\n",
       " 'the',\n",
       " 'common',\n",
       " 'name',\n",
       " 'by',\n",
       " 'using',\n",
       " 'the',\n",
       " 'capitalization',\n",
       " 'rule',\n",
       " 'for',\n",
       " 'Noun']"
      ]
     },
     "execution_count": 41,
     "metadata": {},
     "output_type": "execute_result"
    }
   ],
   "source": [
    "tokens = message.split(' ')\n",
    "tokens"
   ]
  },
  {
   "cell_type": "code",
   "execution_count": 42,
   "metadata": {},
   "outputs": [
    {
     "data": {
      "text/plain": [
       "['Shri',\n",
       " 'Jayant',\n",
       " 'Sinha',\n",
       " 'presented',\n",
       " 'the',\n",
       " '6th',\n",
       " 'Report',\n",
       " 'Hindi',\n",
       " 'and',\n",
       " 'English',\n",
       " 'versions',\n",
       " 'of',\n",
       " 'the',\n",
       " 'Standing',\n",
       " 'Committee',\n",
       " 'on',\n",
       " 'Finance',\n",
       " 'on',\n",
       " 'the',\n",
       " '‘Insolvency',\n",
       " 'and',\n",
       " 'Bankruptcy',\n",
       " 'Code',\n",
       " 'second',\n",
       " 'Amendment',\n",
       " 'Bill',\n",
       " '2019’',\n",
       " 'assignment',\n",
       " '3:',\n",
       " 'identify',\n",
       " 'the',\n",
       " 'common',\n",
       " 'name',\n",
       " 'by',\n",
       " 'using',\n",
       " 'the',\n",
       " 'capitalization',\n",
       " 'rule',\n",
       " 'for',\n",
       " 'Noun']"
      ]
     },
     "execution_count": 42,
     "metadata": {},
     "output_type": "execute_result"
    }
   ],
   "source": [
    "tokens = [token[1:] if token[0] in [\"'\",\"(\"] else token for token in tokens]\n",
    "tokens = [token[:-1] if token[-1] in [\"'\",\")\"] else token for token in tokens]\n",
    "tokens"
   ]
  },
  {
   "cell_type": "markdown",
   "metadata": {},
   "source": [
    "#tokens = [token for token in tokens if token not in stopwords.words('english')]\n",
    "\n",
    "if you remove stopwords then many nouns are queued up successively\n",
    "\n",
    "tokens"
   ]
  },
  {
   "cell_type": "code",
   "execution_count": 43,
   "metadata": {},
   "outputs": [
    {
     "name": "stdout",
     "output_type": "stream",
     "text": [
      "Shri Jayant Sinha\n",
      "Report Hindi\n",
      "English\n",
      "Standing Committee\n",
      "Finance\n",
      "Bankruptcy Code\n",
      "Amendment Bill\n",
      "Noun\n"
     ]
    }
   ],
   "source": [
    "i=0\n",
    "while i!= len(tokens):\n",
    "    if str(tokens[i])[0].isupper():\n",
    "        word = str(tokens[i])\n",
    "        i+=1\n",
    "        while i!=len(tokens) and (str(tokens[i])[0].isupper()):\n",
    "            word = word+' '+tokens[i]\n",
    "            i+=1\n",
    "        print(word)\n",
    "    else:\n",
    "        i+=1\n",
    "        "
   ]
  }
 ],
 "metadata": {
  "kernelspec": {
   "display_name": "Python 3",
   "language": "python",
   "name": "python3"
  },
  "language_info": {
   "codemirror_mode": {
    "name": "ipython",
    "version": 3
   },
   "file_extension": ".py",
   "mimetype": "text/x-python",
   "name": "python",
   "nbconvert_exporter": "python",
   "pygments_lexer": "ipython3",
   "version": "3.7.6"
  }
 },
 "nbformat": 4,
 "nbformat_minor": 4
}
