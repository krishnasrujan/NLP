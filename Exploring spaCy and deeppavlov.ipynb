{
 "cells": [
  {
   "cell_type": "code",
   "execution_count": 1,
   "metadata": {},
   "outputs": [],
   "source": [
    "import warnings\n",
    "warnings.filterwarnings(\"ignore\")"
   ]
  },
  {
   "cell_type": "code",
   "execution_count": 2,
   "metadata": {},
   "outputs": [
    {
     "name": "stdout",
     "output_type": "stream",
     "text": [
      "Jaipur PROPN nsubj\n",
      "is AUX ROOT\n",
      "pink ADJ amod\n",
      "city NOUN attr\n",
      "of ADP prep\n",
      "India PROPN pobj\n"
     ]
    }
   ],
   "source": [
    "import spacy\n",
    "\n",
    "nlp = spacy.load(\"en_core_web_sm\")\n",
    "doc = nlp(\"Jaipur is pink city of India\")\n",
    "for token in doc:\n",
    "    print(token.text, token.pos_, token.dep_)"
   ]
  },
  {
   "cell_type": "code",
   "execution_count": 3,
   "metadata": {},
   "outputs": [
    {
     "name": "stdout",
     "output_type": "stream",
     "text": [
      "My PRON poss\n",
      "name NOUN poss\n",
      "'s PART case\n",
      "Srujan NOUN ROOT\n"
     ]
    }
   ],
   "source": [
    "import spacy\n",
    "\n",
    "nlp = spacy.load(\"en_core_web_sm\")\n",
    "doc = nlp(\"My name's Srujan\")\n",
    "for token in doc:\n",
    "    print(token.text, token.pos_, token.dep_)\n"
   ]
  },
  {
   "cell_type": "code",
   "execution_count": 4,
   "metadata": {},
   "outputs": [
    {
     "name": "stdout",
     "output_type": "stream",
     "text": [
      "Joe Joe PROPN NNP compound Xxx True False\n",
      "Biden Biden PROPN NNP nsubj Xxxxx True False\n",
      "is be AUX VBZ aux xx True True\n",
      "leading lead VERB VBG ROOT xxxx True False\n",
      "U.S. U.S. PROPN NNP compound X.X. False False\n",
      "elections election NOUN NNS dobj xxxx True False\n"
     ]
    }
   ],
   "source": [
    "doc = nlp(\"Joe Biden is leading U.S. elections\")\n",
    "\n",
    "for token in doc:\n",
    "    print(token.text, token.lemma_, token.pos_, token.tag_, token.dep_,\n",
    "            token.shape_, token.is_alpha, token.is_stop)"
   ]
  },
  {
   "cell_type": "code",
   "execution_count": 5,
   "metadata": {},
   "outputs": [
    {
     "name": "stdout",
     "output_type": "stream",
     "text": [
      "Joe Joe PROPN NNP compound Xxx True False\n",
      "Biden Biden PROPN NNP nsubj Xxxxx True False\n",
      "is be AUX VBZ aux xx True True\n",
      "leading lead VERB VBG ROOT xxxx True False\n",
      "US US PROPN NNP compound XX True True\n",
      "elections election NOUN NNS dobj xxxx True False\n"
     ]
    }
   ],
   "source": [
    "doc = nlp(\"Joe Biden is leading US elections\")\n",
    "\n",
    "for token in doc:\n",
    "    print(token.text, token.lemma_, token.pos_, token.tag_, token.dep_,\n",
    "            token.shape_, token.is_alpha, token.is_stop)"
   ]
  },
  {
   "cell_type": "code",
   "execution_count": 6,
   "metadata": {},
   "outputs": [
    {
     "name": "stdout",
     "output_type": "stream",
     "text": [
      "Apple 0 5 ORG\n",
      "U.K. 27 31 GPE\n",
      "$1 billion 44 54 MONEY\n"
     ]
    }
   ],
   "source": [
    "#Named entity recognition\n",
    "doc = nlp(\"Apple is looking at buying U.K. startup for $1 billion\")\n",
    "\n",
    "for ent in doc.ents:\n",
    "    print(ent.text, ent.start_char, ent.end_char, ent.label_)"
   ]
  },
  {
   "cell_type": "code",
   "execution_count": 7,
   "metadata": {},
   "outputs": [
    {
     "name": "stdout",
     "output_type": "stream",
     "text": [
      "the the DET DT det xxx True True\n",
      "game game NOUN NN nsubj xxxx True False\n",
      "will will AUX MD aux xxxx True True\n",
      "lead lead VERB VB ROOT xxxx True False\n",
      "to to ADP IN prep xx True True\n",
      "a a DET DT det x True True\n",
      "tie tie NOUN NN pobj xxx True False\n",
      "if if SCONJ IN mark xx True True\n",
      "both both CCONJ CC predet xxxx True True\n",
      "the the DET DT det xxx True True\n",
      "guys guy NOUN NNS nsubj xxxx True False\n",
      "tie tie VERB VBP advcl xxx True False\n",
      "their -PRON- PRON PRP$ poss xxxx True True\n",
      "final final ADJ JJ amod xxxx True False\n",
      "tie tie NOUN NN dobj xxx True False\n",
      "at at ADP IN prep xx True True\n",
      "the the DET DT det xxx True True\n",
      "same same ADJ JJ amod xxxx True True\n",
      "time time NOUN NN pobj xxxx True False\n"
     ]
    }
   ],
   "source": [
    "doc = nlp(\"the game will lead to a tie if both the guys tie their final tie at the same time\")\n",
    "\n",
    "for token in doc:\n",
    "    print(token.text, token.lemma_, token.pos_, token.tag_, token.dep_,\n",
    "            token.shape_, token.is_alpha, token.is_stop)"
   ]
  },
  {
   "cell_type": "code",
   "execution_count": 8,
   "metadata": {},
   "outputs": [],
   "source": [
    "# from deeppavlov import configs"
   ]
  },
  {
   "cell_type": "code",
   "execution_count": 23,
   "metadata": {},
   "outputs": [],
   "source": [
    "import re\n",
    "message = '''Tourism in India is important for the country's economy and is growing rapidly. \n",
    "he World Travel and Tourism Council calculated that tourism generated ₹16.91 lakh crore (US$240 billion) or 9.2% of \n",
    "India's GDP in 2018 and supported 42.673 million jobs, 8.1% of its total employment.[1] The sector is predicted to grow at an\n",
    "annual rate of 6.9% to ₹32.05 lakh crore (US$450 billion) by 2028 (9.9% of GDP).[2] In October 2015, India's medical tourism \n",
    "sector was estimated to be worth US$3 billion, and it is projected to grow to US$7–8 billion by 2020.[3] In 2014, 184,298 \n",
    "foreign patients travelled to India to seek medical treatment.[4]\n",
    "\n",
    "Over 10.04 million foreign tourists arrived in India in 2017 compared to 8.89 million in 2016, representing a growth of 15.6%.\n",
    "[5][6][7] Domestic tourist visits to all states and union territories numbered 1,036.35 million in 2012, an increase of 16.5% \n",
    "from 2011.[8] In 2014, Tamil Nadu, Maharashtra and Uttar Pradesh were the most popular states for tourists.[9] \n",
    "Delhi, Mumbai, Chennai, Agra and Jaipur were the five most visited cities of India by foreign tourists during the year 2015. \n",
    "Worldwide, Delhi is ranked 28th by the number of foreign tourist arrivals, while Mumbai is ranked 30th, Chennai 43rd, Agra 45th,\n",
    "Jaipur 52nd and Kolkata 90th.[10]\n",
    "\n",
    "The Travel and Tourism Competitiveness Report 2019 ranked India 34th out of 140 countries overall. India improved its ranking \n",
    "by 6 places over the 2017 report which was the greatest improvement among the top 25% of countries ranked. The report ranks the price competitiveness of India's tourism sector 13th out of 140 countries. It mentions that India has quite good air transport infrastructure (ranked 33rd), particularly given the country's stage of development, and reasonable ground and port infrastructure (ranked 28th). The country also scores high on natural resources (ranked 14th), and cultural resources and business travel (ranked 8th).\n",
    "However, some other aspects of its tourism infrastructure remain somewhat underdeveloped.[12] The nation has many hotel rooms per capita by international comparison and low ATM penetration.[13] The World Tourism Organization reported that India's receipts from tourism during 2012 ranked 16th in the world, and 7th among Asian and Pacific countries'''\n"
   ]
  },
  {
   "cell_type": "code",
   "execution_count": 18,
   "metadata": {},
   "outputs": [],
   "source": [
    "tokens"
   ]
  },
  {
   "cell_type": "code",
   "execution_count": 25,
   "metadata": {},
   "outputs": [
    {
     "name": "stdout",
     "output_type": "stream",
     "text": [
      "200\n"
     ]
    }
   ],
   "source": [
    "doc = nlp(message)\n",
    "print(len(doc))\n",
    "doc  = [token for token in doc if not token.is_stop and not token.is_punct]\n",
    "print(len(doc))"
   ]
  },
  {
   "cell_type": "code",
   "execution_count": 26,
   "metadata": {},
   "outputs": [
    {
     "name": "stdout",
     "output_type": "stream",
     "text": [
      "From\n",
      "pavan\n",
      "kurariya\n",
      "to\n",
      "Everyone\n",
      ":\n",
      " \n",
      "04:07\n",
      "PM\n",
      "\n",
      "\n",
      "The\n",
      "photographs\n",
      ",\n",
      "electronic\n",
      "images\n",
      ",\n",
      "motion\n",
      "pictures\n",
      ",\n",
      "interview\n",
      "/\n",
      "text\n",
      "or\n",
      "recordings\n",
      "shall\n",
      "be\n",
      "used\n",
      "for\n",
      "publicity\n",
      ",\n",
      "\n",
      "\n",
      "education\n",
      "or\n",
      "science\n",
      ";\n",
      "such\n",
      "photographs\n",
      "and\n",
      "information\n",
      "relating\n",
      "to\n",
      "my\n",
      "case\n",
      "may\n",
      "be\n",
      "published\n",
      "and\n",
      "republished\n",
      ",\n",
      "\n",
      "\n",
      "exhibited\n",
      "either\n",
      "separately\n",
      "or\n",
      "in\n",
      "connection\n",
      "with\n",
      "each\n",
      "other\n",
      ",\n",
      "in\n",
      "a\n",
      "professional\n",
      "journals\n",
      "or\n",
      "medical\n",
      "book\n",
      ",\n",
      "  \n",
      " \n",
      "or\n",
      "used\n",
      "for\n",
      "any\n",
      "other\n",
      "purpose\n",
      "deemed\n",
      "proper\n",
      "in\n",
      "the\n",
      "interest\n",
      "of\n",
      "medical\n",
      "education\n",
      ",\n",
      "knowledge\n",
      ",\n",
      "research\n",
      "or\n",
      "to\n",
      "promote\n",
      "activities\n",
      "\n",
      "\n",
      "at\n",
      "the\n",
      "hospital\n",
      "in\n",
      "the\n",
      "news\n",
      "media\n",
      "provided\n",
      ",\n",
      "however\n",
      ",\n",
      "that\n",
      "it\n",
      "is\n",
      "specifically\n",
      "understood\n",
      "that\n",
      "in\n",
      "any\n",
      "such\n",
      "publication\n",
      "or\n",
      "use\n",
      ",\n",
      "\n",
      "\n",
      "I\n",
      "shall\n",
      "not\n",
      "be\n",
      "identified\n",
      "by\n",
      "name\n",
      "without\n",
      "my\n",
      "consent\n",
      "below\n",
      ".\n",
      "\n",
      "\n",
      "The\n",
      "photographs\n",
      ",\n",
      "electronic\n",
      "images\n",
      ",\n",
      "motion\n",
      "pictures\n",
      ",\n",
      "interview\n",
      "/\n",
      "text\n",
      "or\n",
      "recordings\n",
      "shall\n",
      "be\n",
      "used\n",
      "for\n",
      "publicity\n",
      ",\n",
      "\n",
      "\n",
      "education\n",
      "or\n",
      "science\n",
      ";\n",
      "such\n",
      "photographs\n",
      "and\n",
      "information\n",
      "relating\n",
      "to\n",
      "my\n",
      "case\n",
      "may\n",
      "be\n",
      "published\n",
      "and\n",
      "republished\n",
      ",\n",
      "exhibited\n",
      "either\n",
      "\n",
      "\n",
      "separately\n",
      "or\n",
      "in\n",
      "connection\n",
      "with\n",
      "each\n",
      "other\n",
      ",\n",
      "in\n",
      "a\n",
      "professional\n",
      "journals\n",
      "or\n",
      "medical\n",
      "book\n",
      ",\n",
      "or\n",
      "used\n",
      "for\n",
      "any\n",
      "other\n",
      "purpose\n",
      "deemed\n",
      " \n",
      "\n",
      "proper\n",
      "in\n",
      "the\n",
      "interest\n"
     ]
    }
   ],
   "source": [
    "for token in doc:\n",
    "    print(token)"
   ]
  },
  {
   "cell_type": "code",
   "execution_count": null,
   "metadata": {},
   "outputs": [],
   "source": [
    "doc = nlp(message)\n",
    "for entity in doc.ents:\n",
    "    if entity.label_ =='ORG' or entity.label_ =='PERSON':\n",
    "        print(entity,entity.label_)"
   ]
  },
  {
   "cell_type": "code",
   "execution_count": null,
   "metadata": {},
   "outputs": [],
   "source": [
    "new_words = [entity if entity.label_ not in ['ORG','PERSON'] else 'UNKNOWN' for entity in doc.ents]\n",
    "new_words"
   ]
  },
  {
   "cell_type": "markdown",
   "metadata": {},
   "source": [
    "TOKENIZATION"
   ]
  },
  {
   "cell_type": "code",
   "execution_count": 27,
   "metadata": {},
   "outputs": [],
   "source": [
    "message = '''The photographs, electronic images, motion pictures, interview/text or recordings shall be used for publicity, education or science; such photographs and information relating to my case may be published and republished, exhibited either separately or in connection with each other, in a professional journals or medical book, or used for any other purpose deemed proper in the interest of medical education, knowledge, research or to promote activities at the hospital in the news media provided, however, that it is specifically understood that in any such publication or use, I shall not be identified by name without my consent below.\n",
    "The photographs, electronic images, motion pictures, interview/text or recordings shall be used for publicity, education or science; such photographs and information relating to my case may be published and republished, exhibited either separately or in connection with each other, in a professional journals or medical book, or used for any other purpose deemed proper in the interest \n",
    "'''"
   ]
  },
  {
   "cell_type": "markdown",
   "metadata": {},
   "source": [
    "manually"
   ]
  },
  {
   "cell_type": "code",
   "execution_count": 28,
   "metadata": {},
   "outputs": [
    {
     "data": {
      "text/plain": [
       "['The',\n",
       " 'photographs,',\n",
       " 'electronic',\n",
       " 'images,',\n",
       " 'motion',\n",
       " 'pictures,',\n",
       " 'interview/text',\n",
       " 'or',\n",
       " 'recordings',\n",
       " 'shall',\n",
       " 'be',\n",
       " 'used',\n",
       " 'for',\n",
       " 'publicity,',\n",
       " 'education',\n",
       " 'or',\n",
       " 'science;',\n",
       " 'such',\n",
       " 'photographs',\n",
       " 'and',\n",
       " 'information',\n",
       " 'relating',\n",
       " 'to',\n",
       " 'my',\n",
       " 'case',\n",
       " 'may',\n",
       " 'be',\n",
       " 'published',\n",
       " 'and',\n",
       " 'republished,',\n",
       " 'exhibited',\n",
       " 'either',\n",
       " 'separately',\n",
       " 'or',\n",
       " 'in',\n",
       " 'connection',\n",
       " 'with',\n",
       " 'each',\n",
       " 'other,',\n",
       " 'in',\n",
       " 'a',\n",
       " 'professional',\n",
       " 'journals',\n",
       " 'or',\n",
       " 'medical',\n",
       " 'book,',\n",
       " 'or',\n",
       " 'used',\n",
       " 'for',\n",
       " 'any',\n",
       " 'other',\n",
       " 'purpose',\n",
       " 'deemed',\n",
       " 'proper',\n",
       " 'in',\n",
       " 'the',\n",
       " 'interest',\n",
       " 'of',\n",
       " 'medical',\n",
       " 'education,',\n",
       " 'knowledge,',\n",
       " 'research',\n",
       " 'or',\n",
       " 'to',\n",
       " 'promote',\n",
       " 'activities',\n",
       " 'at',\n",
       " 'the',\n",
       " 'hospital',\n",
       " 'in',\n",
       " 'the',\n",
       " 'news',\n",
       " 'media',\n",
       " 'provided,',\n",
       " 'however,',\n",
       " 'that',\n",
       " 'it',\n",
       " 'is',\n",
       " 'specifically',\n",
       " 'understood',\n",
       " 'that',\n",
       " 'in',\n",
       " 'any',\n",
       " 'such',\n",
       " 'publication',\n",
       " 'or',\n",
       " 'use,',\n",
       " 'I',\n",
       " 'shall',\n",
       " 'not',\n",
       " 'be',\n",
       " 'identified',\n",
       " 'by',\n",
       " 'name',\n",
       " 'without',\n",
       " 'my',\n",
       " 'consent',\n",
       " 'below.\\nThe',\n",
       " 'photographs,',\n",
       " 'electronic',\n",
       " 'images,',\n",
       " 'motion',\n",
       " 'pictures,',\n",
       " 'interview/text',\n",
       " 'or',\n",
       " 'recordings',\n",
       " 'shall',\n",
       " 'be',\n",
       " 'used',\n",
       " 'for',\n",
       " 'publicity,',\n",
       " 'education',\n",
       " 'or',\n",
       " 'science;',\n",
       " 'such',\n",
       " 'photographs',\n",
       " 'and',\n",
       " 'information',\n",
       " 'relating',\n",
       " 'to',\n",
       " 'my',\n",
       " 'case',\n",
       " 'may',\n",
       " 'be',\n",
       " 'published',\n",
       " 'and',\n",
       " 'republished,',\n",
       " 'exhibited',\n",
       " 'either',\n",
       " 'separately',\n",
       " 'or',\n",
       " 'in',\n",
       " 'connection',\n",
       " 'with',\n",
       " 'each',\n",
       " 'other,',\n",
       " 'in',\n",
       " 'a',\n",
       " 'professional',\n",
       " 'journals',\n",
       " 'or',\n",
       " 'medical',\n",
       " 'book,',\n",
       " 'or',\n",
       " 'used',\n",
       " 'for',\n",
       " 'any',\n",
       " 'other',\n",
       " 'purpose',\n",
       " 'deemed',\n",
       " 'proper',\n",
       " 'in',\n",
       " 'the',\n",
       " 'interest',\n",
       " '\\n']"
      ]
     },
     "execution_count": 28,
     "metadata": {},
     "output_type": "execute_result"
    }
   ],
   "source": [
    "tokens = message.split(' ')\n",
    "tokens"
   ]
  },
  {
   "cell_type": "code",
   "execution_count": 38,
   "metadata": {},
   "outputs": [
    {
     "name": "stdout",
     "output_type": "stream",
     "text": [
      "used \t use\n",
      "relating \t relate\n",
      "published \t publish\n",
      "republished \t republish\n",
      "exhibited \t exhibit\n",
      "used \t use\n",
      "deemed \t deem\n",
      "provided \t provide\n",
      "identified \t identify\n",
      "used \t use\n",
      "relating \t relate\n",
      "published \t publish\n",
      "republished \t republish\n",
      "exhibited \t exhibit\n",
      "used \t use\n",
      "deemed \t deem\n"
     ]
    }
   ],
   "source": [
    "doc = nlp(message)\n",
    "for token in doc:\n",
    "    if str(token)[-3:]=='ing' or str(token)[-2:]=='ed':\n",
    "        print(token,'\\t',token.lemma_)\n",
    "    "
   ]
  },
  {
   "cell_type": "code",
   "execution_count": null,
   "metadata": {},
   "outputs": [],
   "source": [
    "tokens = message.split(' ')\n",
    "for token in tokens:\n",
    "    \n",
    "    if str(token)[-3:]=='ing':\n",
    "        print(token,'\\t',str(token)[:-3])\n",
    "        \n",
    "    elif str(token)[-2:]=='ed':\n",
    "        print(token,'\\t',str(token)[:-2])\n",
    "    \n",
    "    else:\n",
    "        continue"
   ]
  },
  {
   "cell_type": "code",
   "execution_count": 39,
   "metadata": {},
   "outputs": [],
   "source": [
    "message = '''Shri Jayant  Sinha  presented  the  6th  Report  (Hindi  and  English versions)  of  the  Standing  Committee  on  Finance  on the  ‘Insolvency and Bankruptcy Code (second Amendment) Bill 2019’\n",
    "assignment 3: identify the common name by using the capitalization rule for Noun'''"
   ]
  },
  {
   "cell_type": "code",
   "execution_count": 51,
   "metadata": {},
   "outputs": [
    {
     "data": {
      "text/plain": [
       "NoneType"
      ]
     },
     "execution_count": 51,
     "metadata": {},
     "output_type": "execute_result"
    }
   ],
   "source": [
    "tokens = message.split(' ')"
   ]
  },
  {
   "cell_type": "code",
   "execution_count": 52,
   "metadata": {},
   "outputs": [
    {
     "name": "stdout",
     "output_type": "stream",
     "text": [
      "Shri\n",
      "Jayant\n",
      "Sinha\n",
      "Report\n",
      "English\n",
      "Standing\n",
      "Committee\n",
      "Finance\n",
      "Bankruptcy\n",
      "Code\n",
      "Amendment)\n",
      "Bill\n",
      "Noun\n"
     ]
    }
   ],
   "source": [
    "tokens = message.split(' ')\n",
    "for token in tokens:\n",
    "    if len(token) !=0 and str(token[0]).isupper():\n",
    "        print(token)"
   ]
  }
 ],
 "metadata": {
  "kernelspec": {
   "display_name": "Python 3",
   "language": "python",
   "name": "python3"
  },
  "language_info": {
   "codemirror_mode": {
    "name": "ipython",
    "version": 3
   },
   "file_extension": ".py",
   "mimetype": "text/x-python",
   "name": "python",
   "nbconvert_exporter": "python",
   "pygments_lexer": "ipython3",
   "version": "3.7.6"
  }
 },
 "nbformat": 4,
 "nbformat_minor": 4
}
