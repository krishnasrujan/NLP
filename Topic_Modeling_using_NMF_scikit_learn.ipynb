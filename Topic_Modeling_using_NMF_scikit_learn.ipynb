{
 "cells": [
  {
   "cell_type": "code",
   "execution_count": 130,
   "metadata": {
    "id": "3Tib-VoNf3SU"
   },
   "outputs": [],
   "source": [
    "import pandas as pd\n",
    "from sklearn.feature_extraction.text import TfidfVectorizer, CountVectorizer\n",
    "from sklearn import decomposition\n",
    "import matplotlib.pyplot as plt\n",
    "import numpy as np\n",
    "import re\n",
    "import nltk\n",
    "from nltk.stem.porter import PorterStemmer\n",
    "from sklearn.model_selection import train_test_split\n",
    "import spacy\n",
    "import gensim\n",
    "import gensim.corpora as corpora\n",
    "from gensim.utils import simple_preprocess\n",
    "from gensim.models import CoherenceModel\n",
    "from sklearn.decomposition import LatentDirichletAllocation"
   ]
  },
  {
   "cell_type": "code",
   "execution_count": 111,
   "metadata": {},
   "outputs": [
    {
     "name": "stderr",
     "output_type": "stream",
     "text": [
      "[nltk_data] Downloading package punkt to\n",
      "[nltk_data]     C:\\Users\\Srujan\\AppData\\Roaming\\nltk_data...\n",
      "[nltk_data]   Package punkt is already up-to-date!\n"
     ]
    }
   ],
   "source": [
    "nltk.download('punkt')\n",
    "'''\n",
    "Loading small english model\n",
    "'''\n",
    "nlp = spacy.load('en_core_web_sm')\n"
   ]
  },
  {
   "cell_type": "code",
   "execution_count": 112,
   "metadata": {},
   "outputs": [],
   "source": [
    "original_doc = [\"Hi! This is trump. I'm participating in elections.\",\n",
    "             \"Hi this is bolt. I'm the fastest man n earth\",\n",
    "             \"Hi this is angelina jolie. I'm an actor.\",\n",
    "             \"caperio acted very well in titanic.\",\n",
    "             \"Joey is a very good in movies\",\n",
    "             \"Virat kohli has many fans\",\n",
    "             \"Virat kohli is a very good cricket player\",\n",
    "             \"yuvraj hit 6 sixes of six balls\",\n",
    "             \"prudvi dont have balls to talk to a girl\",\n",
    "             \"srujan is creative\",\n",
    "             \"srujan is genious\",\n",
    "             \"srujan is friends with sid, harsha, lakshmi, prudvi,likitha, pushyami, niharika\",\n",
    "            ]\n"
   ]
  },
  {
   "cell_type": "code",
   "execution_count": 113,
   "metadata": {
    "id": "c33HdaMZkPlJ"
   },
   "outputs": [],
   "source": [
    "def tokenize(text):\n",
    "    tokens = [token for token in nltk.word_tokenize(text) if (len(token) > 3 and len(token.strip('Xx/')) > 3 and len(re.sub('\\d+', '', token.strip('Xx/'))) > 3) ]\n",
    "    tokens = [token.lower() for token in tokens]\n",
    "    text = nlp(text)\n",
    "    tokens = [token for token in text if not token.is_punct and not token.is_stop]\n",
    "    tokens = [token.lemma_ for token in tokens]\n",
    "    return tokens"
   ]
  },
  {
   "cell_type": "code",
   "execution_count": 114,
   "metadata": {},
   "outputs": [],
   "source": [
    "documents = [tokenize(text) for text in documents]\n",
    "documents = [\" \".join(text) for text in documents]"
   ]
  },
  {
   "cell_type": "code",
   "execution_count": 141,
   "metadata": {
    "id": "AYWdAvvXkifx"
   },
   "outputs": [],
   "source": [
    "vectorizer = TfidfVectorizer(stop_words=None,min_df = 1, max_df=0.75, max_features=10, lowercase=False, ngram_range=(1,2))\n",
    "tfidf_vectors = vectorizer.fit_transform(documents) "
   ]
  },
  {
   "cell_type": "code",
   "execution_count": 142,
   "metadata": {
    "id": "NwxB1PqJPEJV"
   },
   "outputs": [
    {
     "data": {
      "text/plain": [
       "array([[0.        , 0.        , 0.        , 0.        , 0.        ,\n",
       "        1.        , 0.        , 0.        , 0.        , 0.        ],\n",
       "       [0.        , 0.        , 0.        , 0.        , 0.        ,\n",
       "        1.        , 0.        , 0.        , 0.        , 0.        ],\n",
       "       [0.        , 0.        , 0.        , 0.        , 0.        ,\n",
       "        1.        , 0.        , 0.        , 0.        , 0.        ],\n",
       "       [0.        , 0.        , 0.        , 0.        , 0.        ,\n",
       "        0.        , 0.        , 0.        , 0.        , 0.        ],\n",
       "       [0.        , 0.        , 0.        , 0.        , 1.        ,\n",
       "        0.        , 0.        , 0.        , 0.        , 0.        ],\n",
       "       [0.57735027, 0.57735027, 0.        , 0.        , 0.        ,\n",
       "        0.        , 0.57735027, 0.        , 0.        , 0.        ],\n",
       "       [0.5       , 0.5       , 0.        , 0.        , 0.5       ,\n",
       "        0.        , 0.5       , 0.        , 0.        , 0.        ],\n",
       "       [0.        , 0.        , 1.        , 0.        , 0.        ,\n",
       "        0.        , 0.        , 0.        , 0.        , 0.        ],\n",
       "       [0.        , 0.        , 0.46069482, 0.53643292, 0.        ,\n",
       "        0.        , 0.        , 0.46069482, 0.53643292, 0.        ],\n",
       "       [0.        , 0.        , 0.        , 0.        , 0.        ,\n",
       "        0.        , 0.        , 0.        , 0.        , 1.        ],\n",
       "       [0.        , 0.        , 0.        , 0.        , 0.        ,\n",
       "        0.        , 0.        , 0.        , 0.        , 1.        ],\n",
       "       [0.        , 0.        , 0.        , 0.        , 0.        ,\n",
       "        0.        , 0.        , 0.74946458, 0.        , 0.66204444]])"
      ]
     },
     "execution_count": 142,
     "metadata": {},
     "output_type": "execute_result"
    }
   ],
   "source": [
    "tfidf_vectors.A"
   ]
  },
  {
   "cell_type": "code",
   "execution_count": 143,
   "metadata": {
    "id": "0rl3k7xm0aKE"
   },
   "outputs": [
    {
     "data": {
      "text/plain": [
       "['Virat',\n",
       " 'Virat kohli',\n",
       " 'ball',\n",
       " 'girl',\n",
       " 'good',\n",
       " 'hi',\n",
       " 'kohli',\n",
       " 'prudvi',\n",
       " 'prudvi ball',\n",
       " 'srujan']"
      ]
     },
     "execution_count": 143,
     "metadata": {},
     "output_type": "execute_result"
    }
   ],
   "source": [
    "vectorizer.get_feature_names()"
   ]
  },
  {
   "cell_type": "markdown",
   "metadata": {},
   "source": [
    "# Matrix factorization"
   ]
  },
  {
   "cell_type": "code",
   "execution_count": 144,
   "metadata": {
    "id": "CPNw8Iljr1HY"
   },
   "outputs": [
    {
     "name": "stderr",
     "output_type": "stream",
     "text": [
      "C:\\Users\\Srujan\\Anaconda\\anaconda3\\lib\\site-packages\\sklearn\\decomposition\\_nmf.py:1077: ConvergenceWarning: Maximum number of iterations 200 reached. Increase it to improve convergence.\n",
      "  \" improve convergence.\" % max_iter, ConvergenceWarning)\n"
     ]
    }
   ],
   "source": [
    "clf = decomposition.NMF(n_components=3, random_state=111)\n",
    "\n",
    "W1 = clf.fit_transform(tfidf_vectors)\n",
    "H1 = clf.components_"
   ]
  },
  {
   "cell_type": "code",
   "execution_count": 145,
   "metadata": {
    "colab": {
     "base_uri": "https://localhost:8080/"
    },
    "id": "-yPIjBj83CHC",
    "outputId": "b14aa2ad-1572-4d8d-ec44-d2f3ac480fb2"
   },
   "outputs": [
    {
     "data": {
      "text/plain": [
       "array([[0.        , 0.        , 0.        , 0.        , 0.        ,\n",
       "        1.31607401, 0.        , 0.        , 0.        , 0.        ],\n",
       "       [0.        , 0.        , 0.07406274, 0.0528619 , 0.        ,\n",
       "        0.        , 0.        , 0.35551022, 0.0528619 , 1.21241784],\n",
       "       [0.59460356, 0.59460356, 0.        , 0.        , 0.59460356,\n",
       "        0.        , 0.59460356, 0.        , 0.        , 0.        ]])"
      ]
     },
     "execution_count": 145,
     "metadata": {},
     "output_type": "execute_result"
    }
   ],
   "source": [
    "H1"
   ]
  },
  {
   "cell_type": "code",
   "execution_count": 146,
   "metadata": {
    "colab": {
     "base_uri": "https://localhost:8080/"
    },
    "id": "bGFcCdGF3bHX",
    "outputId": "9e6088c6-8c21-437e-d6ba-7bc149a3ce41"
   },
   "outputs": [
    {
     "data": {
      "text/plain": [
       "array([[0.75983569, 0.        , 0.        ],\n",
       "       [0.75983569, 0.        , 0.        ],\n",
       "       [0.75983569, 0.        , 0.        ],\n",
       "       [0.        , 0.        , 0.        ],\n",
       "       [0.        , 0.        , 0.42044821],\n",
       "       [0.        , 0.        , 0.72823766],\n",
       "       [0.        , 0.        , 0.84089642],\n",
       "       [0.        , 0.04607558, 0.        ],\n",
       "       [0.        , 0.15840041, 0.        ],\n",
       "       [0.        , 0.75426392, 0.        ],\n",
       "       [0.        , 0.75426392, 0.        ],\n",
       "       [0.        , 0.66511413, 0.        ]])"
      ]
     },
     "execution_count": 146,
     "metadata": {},
     "output_type": "execute_result"
    }
   ],
   "source": [
    "W1"
   ]
  },
  {
   "cell_type": "code",
   "execution_count": 147,
   "metadata": {
    "id": "1V1R3AD2wUIW"
   },
   "outputs": [],
   "source": [
    "# each component in H1 is a prob distribution which says how much a word belomgs to that topic. Now we are taking top 3 words\n",
    "# from each component.\n",
    "\n",
    "num_words=3\n",
    "\n",
    "vocab = np.array(vectorizer.get_feature_names())\n",
    "\n",
    "top_words = lambda t: [vocab[i] for i in np.argsort(t)[:-num_words-1:-1]]\n",
    "topic_words = ([top_words(t) for t in H1])\n",
    "topics = [' '.join(t) for t in topic_words]"
   ]
  },
  {
   "cell_type": "code",
   "execution_count": 148,
   "metadata": {
    "colab": {
     "base_uri": "https://localhost:8080/"
    },
    "id": "8YoQ7tY6xfUh",
    "outputId": "029a8e79-b191-43d2-9aae-04380a598cd1"
   },
   "outputs": [
    {
     "data": {
      "text/plain": [
       "['hi srujan prudvi ball', 'srujan prudvi ball', 'kohli Virat kohli Virat']"
      ]
     },
     "execution_count": 148,
     "metadata": {},
     "output_type": "execute_result"
    }
   ],
   "source": [
    "topics"
   ]
  },
  {
   "cell_type": "code",
   "execution_count": 149,
   "metadata": {
    "id": "ksR6IYpZGw1B"
   },
   "outputs": [],
   "source": [
    "colnames = [\"Topic\" + str(i) for i in range(clf.n_components)]\n",
    "docnames = [\"Doc\" + str(i) for i in range(len(documents))]\n",
    "df_doc_topic = pd.DataFrame(np.round(W1,2), columns=colnames, index=docnames)\n",
    "significant_topic = np.argmax(df_doc_topic.values, axis=1)\n",
    "df_doc_topic['document'] = original_doc\n",
    "df_doc_topic['dominant_topic'] = significant_topic"
   ]
  },
  {
   "cell_type": "code",
   "execution_count": 150,
   "metadata": {
    "colab": {
     "base_uri": "https://localhost:8080/",
     "height": 416
    },
    "id": "jx2p6-NwVeJY",
    "outputId": "0ea1a7f8-7141-4ff0-e6f5-26e94454faf7"
   },
   "outputs": [
    {
     "data": {
      "text/html": [
       "<div>\n",
       "<style scoped>\n",
       "    .dataframe tbody tr th:only-of-type {\n",
       "        vertical-align: middle;\n",
       "    }\n",
       "\n",
       "    .dataframe tbody tr th {\n",
       "        vertical-align: top;\n",
       "    }\n",
       "\n",
       "    .dataframe thead th {\n",
       "        text-align: right;\n",
       "    }\n",
       "</style>\n",
       "<table border=\"1\" class=\"dataframe\">\n",
       "  <thead>\n",
       "    <tr style=\"text-align: right;\">\n",
       "      <th></th>\n",
       "      <th>Topic0</th>\n",
       "      <th>Topic1</th>\n",
       "      <th>Topic2</th>\n",
       "      <th>document</th>\n",
       "      <th>dominant_topic</th>\n",
       "    </tr>\n",
       "  </thead>\n",
       "  <tbody>\n",
       "    <tr>\n",
       "      <th>Doc0</th>\n",
       "      <td>0.76</td>\n",
       "      <td>0.00</td>\n",
       "      <td>0.00</td>\n",
       "      <td>Hi! This is trump. I'm participating in elections.</td>\n",
       "      <td>0</td>\n",
       "    </tr>\n",
       "    <tr>\n",
       "      <th>Doc1</th>\n",
       "      <td>0.76</td>\n",
       "      <td>0.00</td>\n",
       "      <td>0.00</td>\n",
       "      <td>Hi this is bolt. I'm the fastest man n earth</td>\n",
       "      <td>0</td>\n",
       "    </tr>\n",
       "    <tr>\n",
       "      <th>Doc2</th>\n",
       "      <td>0.76</td>\n",
       "      <td>0.00</td>\n",
       "      <td>0.00</td>\n",
       "      <td>Hi this is angelina jolie. I'm an actor.</td>\n",
       "      <td>0</td>\n",
       "    </tr>\n",
       "    <tr>\n",
       "      <th>Doc3</th>\n",
       "      <td>0.00</td>\n",
       "      <td>0.00</td>\n",
       "      <td>0.00</td>\n",
       "      <td>caperio acted very well in titanic.</td>\n",
       "      <td>0</td>\n",
       "    </tr>\n",
       "    <tr>\n",
       "      <th>Doc4</th>\n",
       "      <td>0.00</td>\n",
       "      <td>0.00</td>\n",
       "      <td>0.42</td>\n",
       "      <td>Joey is a very good in movies</td>\n",
       "      <td>2</td>\n",
       "    </tr>\n",
       "    <tr>\n",
       "      <th>Doc5</th>\n",
       "      <td>0.00</td>\n",
       "      <td>0.00</td>\n",
       "      <td>0.73</td>\n",
       "      <td>Virat kohli has many fans</td>\n",
       "      <td>2</td>\n",
       "    </tr>\n",
       "    <tr>\n",
       "      <th>Doc6</th>\n",
       "      <td>0.00</td>\n",
       "      <td>0.00</td>\n",
       "      <td>0.84</td>\n",
       "      <td>Virat kohli is a very good cricket player</td>\n",
       "      <td>2</td>\n",
       "    </tr>\n",
       "    <tr>\n",
       "      <th>Doc7</th>\n",
       "      <td>0.00</td>\n",
       "      <td>0.05</td>\n",
       "      <td>0.00</td>\n",
       "      <td>yuvraj hit 6 sixes of six balls</td>\n",
       "      <td>1</td>\n",
       "    </tr>\n",
       "    <tr>\n",
       "      <th>Doc8</th>\n",
       "      <td>0.00</td>\n",
       "      <td>0.16</td>\n",
       "      <td>0.00</td>\n",
       "      <td>prudvi dont have balls to talk to a girl</td>\n",
       "      <td>1</td>\n",
       "    </tr>\n",
       "    <tr>\n",
       "      <th>Doc9</th>\n",
       "      <td>0.00</td>\n",
       "      <td>0.75</td>\n",
       "      <td>0.00</td>\n",
       "      <td>srujan is creative</td>\n",
       "      <td>1</td>\n",
       "    </tr>\n",
       "    <tr>\n",
       "      <th>Doc10</th>\n",
       "      <td>0.00</td>\n",
       "      <td>0.75</td>\n",
       "      <td>0.00</td>\n",
       "      <td>srujan is genious</td>\n",
       "      <td>1</td>\n",
       "    </tr>\n",
       "    <tr>\n",
       "      <th>Doc11</th>\n",
       "      <td>0.00</td>\n",
       "      <td>0.67</td>\n",
       "      <td>0.00</td>\n",
       "      <td>srujan is friends with sid, harsha, lakshmi, prudvi,likitha, pushyami, niharika</td>\n",
       "      <td>1</td>\n",
       "    </tr>\n",
       "  </tbody>\n",
       "</table>\n",
       "</div>"
      ],
      "text/plain": [
       "       Topic0  Topic1  Topic2  \\\n",
       "Doc0   0.76    0.00    0.00     \n",
       "Doc1   0.76    0.00    0.00     \n",
       "Doc2   0.76    0.00    0.00     \n",
       "Doc3   0.00    0.00    0.00     \n",
       "Doc4   0.00    0.00    0.42     \n",
       "Doc5   0.00    0.00    0.73     \n",
       "Doc6   0.00    0.00    0.84     \n",
       "Doc7   0.00    0.05    0.00     \n",
       "Doc8   0.00    0.16    0.00     \n",
       "Doc9   0.00    0.75    0.00     \n",
       "Doc10  0.00    0.75    0.00     \n",
       "Doc11  0.00    0.67    0.00     \n",
       "\n",
       "                                                                              document  \\\n",
       "Doc0   Hi! This is trump. I'm participating in elections.                                \n",
       "Doc1   Hi this is bolt. I'm the fastest man n earth                                      \n",
       "Doc2   Hi this is angelina jolie. I'm an actor.                                          \n",
       "Doc3   caperio acted very well in titanic.                                               \n",
       "Doc4   Joey is a very good in movies                                                     \n",
       "Doc5   Virat kohli has many fans                                                         \n",
       "Doc6   Virat kohli is a very good cricket player                                         \n",
       "Doc7   yuvraj hit 6 sixes of six balls                                                   \n",
       "Doc8   prudvi dont have balls to talk to a girl                                          \n",
       "Doc9   srujan is creative                                                                \n",
       "Doc10  srujan is genious                                                                 \n",
       "Doc11  srujan is friends with sid, harsha, lakshmi, prudvi,likitha, pushyami, niharika   \n",
       "\n",
       "       dominant_topic  \n",
       "Doc0   0               \n",
       "Doc1   0               \n",
       "Doc2   0               \n",
       "Doc3   0               \n",
       "Doc4   2               \n",
       "Doc5   2               \n",
       "Doc6   2               \n",
       "Doc7   1               \n",
       "Doc8   1               \n",
       "Doc9   1               \n",
       "Doc10  1               \n",
       "Doc11  1               "
      ]
     },
     "execution_count": 150,
     "metadata": {},
     "output_type": "execute_result"
    }
   ],
   "source": [
    "df_doc_topic"
   ]
  },
  {
   "cell_type": "markdown",
   "metadata": {
    "id": "JExLyKUycPdR"
   },
   "source": [
    "# Latent dirchlet allocation from sklearn"
   ]
  },
  {
   "cell_type": "code",
   "execution_count": 151,
   "metadata": {},
   "outputs": [
    {
     "data": {
      "text/plain": [
       "array([[0.66554614, 0.16730171, 0.16715215],\n",
       "       [0.66554614, 0.16730171, 0.16715215],\n",
       "       [0.66554614, 0.16730171, 0.16715215],\n",
       "       [0.33333333, 0.33333333, 0.33333333],\n",
       "       [0.16734397, 0.16775108, 0.66490495],\n",
       "       [0.12268564, 0.12309265, 0.7542217 ],\n",
       "       [0.11167523, 0.11201399, 0.77631078],\n",
       "       [0.16720458, 0.66546956, 0.16732587],\n",
       "       [0.11614672, 0.77142396, 0.11242932],\n",
       "       [0.66539353, 0.16738906, 0.16721741],\n",
       "       [0.66539353, 0.16738906, 0.16721741],\n",
       "       [0.70722456, 0.15337682, 0.13939862]])"
      ]
     },
     "execution_count": 151,
     "metadata": {},
     "output_type": "execute_result"
    }
   ],
   "source": [
    "clf = LatentDirichletAllocation(n_components=3)\n",
    "preds = clf.fit_transform(tfidf_vectors)\n",
    "preds"
   ]
  },
  {
   "cell_type": "code",
   "execution_count": 152,
   "metadata": {},
   "outputs": [
    {
     "data": {
      "text/plain": [
       "array([[0.33440636, 0.33440636, 0.33467311, 0.33426376, 0.33500843,\n",
       "        3.32663086, 0.33440636, 1.05771707, 0.33426376, 2.98886012],\n",
       "       [0.33505049, 0.33505049, 1.79108244, 0.86781741, 0.33601808,\n",
       "        0.33713054, 0.33505049, 0.81583097, 0.86781741, 0.33713344],\n",
       "       [1.40789342, 1.40789342, 0.33493927, 0.33435175, 1.8289735 ,\n",
       "        0.33623859, 1.40789342, 0.33661137, 0.33435175, 0.33605088]])"
      ]
     },
     "execution_count": 152,
     "metadata": {},
     "output_type": "execute_result"
    }
   ],
   "source": [
    "clf.components_"
   ]
  },
  {
   "cell_type": "code",
   "execution_count": 153,
   "metadata": {},
   "outputs": [],
   "source": [
    "num_words=3\n",
    "\n",
    "vocab = np.array(vectorizer.get_feature_names())\n",
    "\n",
    "top_words = lambda t: [vocab[i] for i in np.argsort(t)[:-num_words-1:-1]]\n",
    "topic_words = ([top_words(t) for t in clf.components_])\n",
    "topics = [' '.join(t) for t in topic_words]"
   ]
  },
  {
   "cell_type": "code",
   "execution_count": 154,
   "metadata": {},
   "outputs": [
    {
     "data": {
      "text/plain": [
       "['hi srujan prudvi', 'ball prudvi ball girl', 'good Virat kohli']"
      ]
     },
     "execution_count": 154,
     "metadata": {},
     "output_type": "execute_result"
    }
   ],
   "source": [
    "topics"
   ]
  },
  {
   "cell_type": "code",
   "execution_count": 157,
   "metadata": {},
   "outputs": [],
   "source": [
    "colnames = [\"Topic\" + str(i) for i in range(clf.n_components)]\n",
    "docnames = [\"Doc\" + str(i) for i in range(len(documents))]\n",
    "df_doc_topic = pd.DataFrame(np.round(preds,2), columns=colnames, index=docnames)\n",
    "significant_topic = np.argmax(df_doc_topic.values, axis=1)\n",
    "df_doc_topic['document'] = original_doc\n",
    "df_doc_topic['dominant_topic'] = significant_topic"
   ]
  },
  {
   "cell_type": "code",
   "execution_count": 158,
   "metadata": {},
   "outputs": [
    {
     "data": {
      "text/html": [
       "<div>\n",
       "<style scoped>\n",
       "    .dataframe tbody tr th:only-of-type {\n",
       "        vertical-align: middle;\n",
       "    }\n",
       "\n",
       "    .dataframe tbody tr th {\n",
       "        vertical-align: top;\n",
       "    }\n",
       "\n",
       "    .dataframe thead th {\n",
       "        text-align: right;\n",
       "    }\n",
       "</style>\n",
       "<table border=\"1\" class=\"dataframe\">\n",
       "  <thead>\n",
       "    <tr style=\"text-align: right;\">\n",
       "      <th></th>\n",
       "      <th>Topic0</th>\n",
       "      <th>Topic1</th>\n",
       "      <th>Topic2</th>\n",
       "      <th>document</th>\n",
       "      <th>dominant_topic</th>\n",
       "    </tr>\n",
       "  </thead>\n",
       "  <tbody>\n",
       "    <tr>\n",
       "      <th>Doc0</th>\n",
       "      <td>0.67</td>\n",
       "      <td>0.17</td>\n",
       "      <td>0.17</td>\n",
       "      <td>Hi! This is trump. I'm participating in elections.</td>\n",
       "      <td>0</td>\n",
       "    </tr>\n",
       "    <tr>\n",
       "      <th>Doc1</th>\n",
       "      <td>0.67</td>\n",
       "      <td>0.17</td>\n",
       "      <td>0.17</td>\n",
       "      <td>Hi this is bolt. I'm the fastest man n earth</td>\n",
       "      <td>0</td>\n",
       "    </tr>\n",
       "    <tr>\n",
       "      <th>Doc2</th>\n",
       "      <td>0.67</td>\n",
       "      <td>0.17</td>\n",
       "      <td>0.17</td>\n",
       "      <td>Hi this is angelina jolie. I'm an actor.</td>\n",
       "      <td>0</td>\n",
       "    </tr>\n",
       "    <tr>\n",
       "      <th>Doc3</th>\n",
       "      <td>0.33</td>\n",
       "      <td>0.33</td>\n",
       "      <td>0.33</td>\n",
       "      <td>caperio acted very well in titanic.</td>\n",
       "      <td>0</td>\n",
       "    </tr>\n",
       "    <tr>\n",
       "      <th>Doc4</th>\n",
       "      <td>0.17</td>\n",
       "      <td>0.17</td>\n",
       "      <td>0.66</td>\n",
       "      <td>Joey is a very good in movies</td>\n",
       "      <td>2</td>\n",
       "    </tr>\n",
       "    <tr>\n",
       "      <th>Doc5</th>\n",
       "      <td>0.12</td>\n",
       "      <td>0.12</td>\n",
       "      <td>0.75</td>\n",
       "      <td>Virat kohli has many fans</td>\n",
       "      <td>2</td>\n",
       "    </tr>\n",
       "    <tr>\n",
       "      <th>Doc6</th>\n",
       "      <td>0.11</td>\n",
       "      <td>0.11</td>\n",
       "      <td>0.78</td>\n",
       "      <td>Virat kohli is a very good cricket player</td>\n",
       "      <td>2</td>\n",
       "    </tr>\n",
       "    <tr>\n",
       "      <th>Doc7</th>\n",
       "      <td>0.17</td>\n",
       "      <td>0.67</td>\n",
       "      <td>0.17</td>\n",
       "      <td>yuvraj hit 6 sixes of six balls</td>\n",
       "      <td>1</td>\n",
       "    </tr>\n",
       "    <tr>\n",
       "      <th>Doc8</th>\n",
       "      <td>0.12</td>\n",
       "      <td>0.77</td>\n",
       "      <td>0.11</td>\n",
       "      <td>prudvi dont have balls to talk to a girl</td>\n",
       "      <td>1</td>\n",
       "    </tr>\n",
       "    <tr>\n",
       "      <th>Doc9</th>\n",
       "      <td>0.67</td>\n",
       "      <td>0.17</td>\n",
       "      <td>0.17</td>\n",
       "      <td>srujan is creative</td>\n",
       "      <td>0</td>\n",
       "    </tr>\n",
       "    <tr>\n",
       "      <th>Doc10</th>\n",
       "      <td>0.67</td>\n",
       "      <td>0.17</td>\n",
       "      <td>0.17</td>\n",
       "      <td>srujan is genious</td>\n",
       "      <td>0</td>\n",
       "    </tr>\n",
       "    <tr>\n",
       "      <th>Doc11</th>\n",
       "      <td>0.71</td>\n",
       "      <td>0.15</td>\n",
       "      <td>0.14</td>\n",
       "      <td>srujan is friends with sid, harsha, lakshmi, prudvi,likitha, pushyami, niharika</td>\n",
       "      <td>0</td>\n",
       "    </tr>\n",
       "  </tbody>\n",
       "</table>\n",
       "</div>"
      ],
      "text/plain": [
       "       Topic0  Topic1  Topic2  \\\n",
       "Doc0   0.67    0.17    0.17     \n",
       "Doc1   0.67    0.17    0.17     \n",
       "Doc2   0.67    0.17    0.17     \n",
       "Doc3   0.33    0.33    0.33     \n",
       "Doc4   0.17    0.17    0.66     \n",
       "Doc5   0.12    0.12    0.75     \n",
       "Doc6   0.11    0.11    0.78     \n",
       "Doc7   0.17    0.67    0.17     \n",
       "Doc8   0.12    0.77    0.11     \n",
       "Doc9   0.67    0.17    0.17     \n",
       "Doc10  0.67    0.17    0.17     \n",
       "Doc11  0.71    0.15    0.14     \n",
       "\n",
       "                                                                              document  \\\n",
       "Doc0   Hi! This is trump. I'm participating in elections.                                \n",
       "Doc1   Hi this is bolt. I'm the fastest man n earth                                      \n",
       "Doc2   Hi this is angelina jolie. I'm an actor.                                          \n",
       "Doc3   caperio acted very well in titanic.                                               \n",
       "Doc4   Joey is a very good in movies                                                     \n",
       "Doc5   Virat kohli has many fans                                                         \n",
       "Doc6   Virat kohli is a very good cricket player                                         \n",
       "Doc7   yuvraj hit 6 sixes of six balls                                                   \n",
       "Doc8   prudvi dont have balls to talk to a girl                                          \n",
       "Doc9   srujan is creative                                                                \n",
       "Doc10  srujan is genious                                                                 \n",
       "Doc11  srujan is friends with sid, harsha, lakshmi, prudvi,likitha, pushyami, niharika   \n",
       "\n",
       "       dominant_topic  \n",
       "Doc0   0               \n",
       "Doc1   0               \n",
       "Doc2   0               \n",
       "Doc3   0               \n",
       "Doc4   2               \n",
       "Doc5   2               \n",
       "Doc6   2               \n",
       "Doc7   1               \n",
       "Doc8   1               \n",
       "Doc9   0               \n",
       "Doc10  0               \n",
       "Doc11  0               "
      ]
     },
     "execution_count": 158,
     "metadata": {},
     "output_type": "execute_result"
    }
   ],
   "source": [
    "df_doc_topic"
   ]
  },
  {
   "cell_type": "code",
   "execution_count": null,
   "metadata": {},
   "outputs": [],
   "source": []
  }
 ],
 "metadata": {
  "colab": {
   "name": "Topic Modeling using NMF - scikit learn.ipynb",
   "provenance": []
  },
  "kernelspec": {
   "display_name": "Python 3",
   "language": "python",
   "name": "python3"
  },
  "language_info": {
   "codemirror_mode": {
    "name": "ipython",
    "version": 3
   },
   "file_extension": ".py",
   "mimetype": "text/x-python",
   "name": "python",
   "nbconvert_exporter": "python",
   "pygments_lexer": "ipython3",
   "version": "3.7.6"
  }
 },
 "nbformat": 4,
 "nbformat_minor": 1
}
